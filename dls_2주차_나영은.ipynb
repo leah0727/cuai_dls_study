{
  "nbformat": 4,
  "nbformat_minor": 0,
  "metadata": {
    "colab": {
      "provenance": []
    },
    "kernelspec": {
      "name": "python3",
      "display_name": "Python 3"
    },
    "language_info": {
      "name": "python"
    }
  },
  "cells": [
    {
      "cell_type": "markdown",
      "source": [
        "#[2장 퍼셉트론]\n",
        "퍼셉트론의 구조와 작동을 배웠습니다. AND, OR, NAND Gate가 단층 퍼셉트론 구조에서 입력 신호를 가중치에 맞추어 분류할 수 있었습니다. 하지만, XOR gate는 단층이 아닌 다층 퍼셉트론(Multi Layer Perceptron)으로 풀 수 있었습니다. 다음 장에서는 이에 대해 더 자세히 공부해 볼 것입니다.\n",
        "\n",
        "\n",
        "---\n",
        "\n",
        "\n",
        "#[정리]\n",
        "퍼셉트론은 입출력을 갖춘 알고리즘이다. 입력을 주면 정해진 규칙에 따른 값을 출력한다.\n",
        "퍼셉트론에서는 ‘가중치’와 ‘편향’을 매개변수로 설정한다.\n",
        "퍼셉트론으로 AND, OR 게이트 등의 논리 회로를 표현할 수 있다.\n",
        "XOR 게이트는 단층 퍼셉트론으로는 표현할 수 없다.\n",
        "층 퍼셉트론을 이용하면 XOR 게이트를 표현할 수 있다.\n",
        "단층 퍼셉트론은 직선형 영역만 표현할 수 있고, 다층 퍼셉트론은 비선형 영역도 표현할 수 있다.\n",
        "다층 퍼셉트론은 (이론상) 컴퓨터를 표현할 수 있다."
      ],
      "metadata": {
        "id": "SUPzRSX5KCSZ"
      }
    },
    {
      "cell_type": "markdown",
      "source": [
        "\n",
        "\n",
        "---\n",
        "##2.1 퍼셉트론이란?\n",
        ": 다수의 신호를 입력으로 받아 하나의 신호를 출력\n",
        "\n",
        "\n",
        "$y = \\begin{cases}\n",
        "0, & (w_1 x_1 + w_2 x_2 \\leq \\theta) \\\\\n",
        "1, & (w_1 x_1 + w_2 x_2 > \\theta)\n",
        "\\end{cases}$\n",
        "\n",
        "\n",
        "- $x_{1}$과 $x_{2}$ : 입력 신호\n",
        "- $y$ : 출력 신호\n",
        "- $w_{1}$과 $w_{2}$ : 가중치\n",
        "- 뉴런(노드)\n",
        "- **임계값** : 정해진 한계, $\\theta$(세타)로 나타냄\n",
        "\n",
        "→ 입력 신호에 고유한 **가중치**를 곱해 총합이 정해진 한계를 넘어서면 1을 출력  \n",
        "\n"
      ],
      "metadata": {
        "id": "_-ZvTAbpKagF"
      }
    },
    {
      "cell_type": "markdown",
      "source": [
        "\n",
        "---\n",
        "##2.2 단순한 논리 회로  \n",
        "##2.2.1 AND 게이트\n",
        "x1, x2 두 입력이 모두 1일 때만 1을 출력하고, 그 외에는 0 출력\n",
        "\n",
        "\n"
      ],
      "metadata": {
        "id": "_3hMmlPxLRV7"
      }
    },
    {
      "cell_type": "markdown",
      "source": [
        "##2.2.2 NAND 게이트 와 OR 게이트\n",
        "NAND 게이트: x1, x2가 모두 1일 때만 0 출력, 그 외에는 1 출력\n",
        "OR 게이트: 입력 신호 중 하나 이상이 1이면 출력이 1이 되는 논리 회로"
      ],
      "metadata": {
        "id": "YWHrIVJHL8T3"
      }
    },
    {
      "cell_type": "markdown",
      "source": [
        "\n",
        "\n",
        "---\n",
        "##2.3 퍼셉트론 구현하기\n",
        "##2.3.1 간단한 구현부터\n",
        "\n",
        "\n"
      ],
      "metadata": {
        "id": "pcVHR5EfM2tT"
      }
    },
    {
      "cell_type": "code",
      "source": [
        "def AND(x1,x2):\n",
        "  w1, w2, theta = 0.5, 0.5, 0.7\n",
        "  tmp = x1*w1 +x2*w2\n",
        "  if tmp <=theta:\n",
        "    return 0\n",
        "  elif tmp>theta:\n",
        "    return 1"
      ],
      "metadata": {
        "id": "-o5G4h7GM-qK"
      },
      "execution_count": 1,
      "outputs": []
    },
    {
      "cell_type": "code",
      "source": [
        "AND(0,0)"
      ],
      "metadata": {
        "colab": {
          "base_uri": "https://localhost:8080/"
        },
        "id": "izh4BwztNDTJ",
        "outputId": "2310afb7-02ce-47ea-e3a4-fdb6df0229d0"
      },
      "execution_count": 2,
      "outputs": [
        {
          "output_type": "execute_result",
          "data": {
            "text/plain": [
              "0"
            ]
          },
          "metadata": {},
          "execution_count": 2
        }
      ]
    },
    {
      "cell_type": "code",
      "source": [
        "AND(0,1)"
      ],
      "metadata": {
        "colab": {
          "base_uri": "https://localhost:8080/"
        },
        "id": "Z_TUl8IvO6C5",
        "outputId": "145bf900-0c38-485d-f8f6-91f77b9f7b89"
      },
      "execution_count": 3,
      "outputs": [
        {
          "output_type": "execute_result",
          "data": {
            "text/plain": [
              "0"
            ]
          },
          "metadata": {},
          "execution_count": 3
        }
      ]
    },
    {
      "cell_type": "code",
      "source": [
        "AND(1,0)"
      ],
      "metadata": {
        "colab": {
          "base_uri": "https://localhost:8080/"
        },
        "id": "8t36rEu8O-lZ",
        "outputId": "39467671-b665-474b-8f9d-111f4f063cc6"
      },
      "execution_count": 4,
      "outputs": [
        {
          "output_type": "execute_result",
          "data": {
            "text/plain": [
              "0"
            ]
          },
          "metadata": {},
          "execution_count": 4
        }
      ]
    },
    {
      "cell_type": "code",
      "source": [
        "AND(1,1)"
      ],
      "metadata": {
        "colab": {
          "base_uri": "https://localhost:8080/"
        },
        "id": "ZOikjtxGPAhz",
        "outputId": "78ee99bd-60c7-4fb6-9eef-5ea98718faa5"
      },
      "execution_count": 5,
      "outputs": [
        {
          "output_type": "execute_result",
          "data": {
            "text/plain": [
              "1"
            ]
          },
          "metadata": {},
          "execution_count": 5
        }
      ]
    },
    {
      "cell_type": "markdown",
      "source": [
        "##2.3.2 가중치와 편향 도입\n",
        " $\\theta$를 $-b$로 치환\n",
        "\n",
        "$y = \\begin{cases}\n",
        "0, & (b+w_1 x_1 + w_2 x_2 \\leq 0) \\\\\n",
        "1, & (b+w_1 x_1 + w_2 x_2 > 0)\n",
        "\\end{cases}$\n",
        "\n",
        "\n",
        "\n",
        " $b$: 편향"
      ],
      "metadata": {
        "id": "nAsRaxJRPGYi"
      }
    },
    {
      "cell_type": "code",
      "source": [
        "import numpy as np\n",
        "x=np.array([0,1]) #입력\n",
        "w=np.array([0.5, 0.5]) #가중치\n",
        "b=-0.7 #편향\n",
        "w*x"
      ],
      "metadata": {
        "colab": {
          "base_uri": "https://localhost:8080/"
        },
        "id": "aggbVsJmPA_O",
        "outputId": "eeba5e7d-6e86-45d6-f513-643394a61457"
      },
      "execution_count": 6,
      "outputs": [
        {
          "output_type": "execute_result",
          "data": {
            "text/plain": [
              "array([0. , 0.5])"
            ]
          },
          "metadata": {},
          "execution_count": 6
        }
      ]
    },
    {
      "cell_type": "code",
      "source": [
        "np.sum(w*x)"
      ],
      "metadata": {
        "colab": {
          "base_uri": "https://localhost:8080/"
        },
        "id": "sJoUA8QSQB8E",
        "outputId": "6f94202e-1a7e-44da-f2e0-0525e36fba60"
      },
      "execution_count": 7,
      "outputs": [
        {
          "output_type": "execute_result",
          "data": {
            "text/plain": [
              "0.5"
            ]
          },
          "metadata": {},
          "execution_count": 7
        }
      ]
    },
    {
      "cell_type": "code",
      "source": [
        "np.sum(w*x)+b #대략 -0.2 (부동소수점 수에 의한 연산 오차 )"
      ],
      "metadata": {
        "colab": {
          "base_uri": "https://localhost:8080/"
        },
        "id": "6Hr44FsnQakM",
        "outputId": "482e9a98-7361-48ef-d293-ca577e4a04a3"
      },
      "execution_count": 8,
      "outputs": [
        {
          "output_type": "execute_result",
          "data": {
            "text/plain": [
              "-0.19999999999999996"
            ]
          },
          "metadata": {},
          "execution_count": 8
        }
      ]
    },
    {
      "cell_type": "markdown",
      "source": [
        "##2.3.3 가중치와 편향 구현하기\n",
        "AND, NAND, OR 는 모두 같은 구조의 퍼셉트론\n",
        "\n",
        "차이는 가중치 매개변수의 값뿐"
      ],
      "metadata": {
        "id": "nOEdQlnLQnjB"
      }
    },
    {
      "cell_type": "code",
      "source": [
        "#AND\n",
        "def AND(x1, x2):\n",
        "    x = np.array([x1, x2])\n",
        "    w = np.array([0.5, 0.5])\n",
        "    b = -0.7\n",
        "    tmp = np.sum(w*x) + b\n",
        "    if tmp <= 0:\n",
        "        return 0\n",
        "    else:\n",
        "        return 1\n",
        "\n",
        "if __name__ == '__main__':\n",
        "    for xs in [(0, 0), (1, 0), (0, 1), (1, 1)]:\n",
        "        y = AND(xs[0], xs[1])\n",
        "        print(str(xs) + \" -> \" + str(y))"
      ],
      "metadata": {
        "colab": {
          "base_uri": "https://localhost:8080/"
        },
        "id": "N1kr3B-RQeP1",
        "outputId": "65fa2d9b-bf9e-4099-ff2c-24deaaef483c"
      },
      "execution_count": 9,
      "outputs": [
        {
          "output_type": "stream",
          "name": "stdout",
          "text": [
            "(0, 0) -> 0\n",
            "(1, 0) -> 0\n",
            "(0, 1) -> 0\n",
            "(1, 1) -> 1\n"
          ]
        }
      ]
    },
    {
      "cell_type": "code",
      "source": [
        "#NAND\n",
        "def NAND(x1, x2):\n",
        "    x = np.array([x1, x2])\n",
        "    w = np.array([-0.5, -0.5]) #and와 가중치(w와 b)만 다르다!\n",
        "    b = 0.7\n",
        "    tmp = np.sum(w*x) + b\n",
        "    if tmp <= 0:\n",
        "        return 0\n",
        "    else:\n",
        "        return 1\n",
        "\n",
        "if __name__ == '__main__':\n",
        "    for xs in [(0, 0), (1, 0), (0, 1), (1, 1)]:\n",
        "        y = NAND(xs[0], xs[1])\n",
        "        print(str(xs) + \" -> \" + str(y))"
      ],
      "metadata": {
        "colab": {
          "base_uri": "https://localhost:8080/"
        },
        "id": "7sh42h0RQ5YA",
        "outputId": "55df6b8f-9d9c-4516-f08e-b2b137767751"
      },
      "execution_count": 10,
      "outputs": [
        {
          "output_type": "stream",
          "name": "stdout",
          "text": [
            "(0, 0) -> 1\n",
            "(1, 0) -> 1\n",
            "(0, 1) -> 1\n",
            "(1, 1) -> 0\n"
          ]
        }
      ]
    },
    {
      "cell_type": "code",
      "source": [
        "def OR(x1, x2):\n",
        "    x = np.array([x1, x2])\n",
        "    w = np.array([0.5, 0.5])\n",
        "    b = -0.2 #w와 b 가중치에서 차이\n",
        "    tmp = np.sum(w*x) + b\n",
        "    if tmp <= 0:\n",
        "        return 0\n",
        "    else:\n",
        "        return 1\n",
        "\n",
        "if __name__ == '__main__':\n",
        "    for xs in [(0, 0), (1, 0), (0, 1), (1, 1)]:\n",
        "        y = OR(xs[0], xs[1])\n",
        "        print(str(xs) + \" -> \" + str(y))"
      ],
      "metadata": {
        "colab": {
          "base_uri": "https://localhost:8080/"
        },
        "id": "Kuhmb_zCRIvq",
        "outputId": "2505e56d-e431-41be-cf69-4318e1e92ec4"
      },
      "execution_count": 11,
      "outputs": [
        {
          "output_type": "stream",
          "name": "stdout",
          "text": [
            "(0, 0) -> 0\n",
            "(1, 0) -> 1\n",
            "(0, 1) -> 1\n",
            "(1, 1) -> 1\n"
          ]
        }
      ]
    },
    {
      "cell_type": "markdown",
      "source": [
        "\n",
        "\n",
        "---\n",
        "\n",
        "\n",
        "##2.4 퍼셉트론의 한계\n",
        "##2.4.1 도전! XOR 게이트\n",
        ": 배타적 논리합 , x1과 x2 중 한쪽이 1일 때만 1을 출력 -> 선형에서는 불가능\n",
        "\n",
        "##2.4.2 선형과 비선형\n",
        "곡선의 영역을 비선형, 직선의 영역을 선형 영역\n",
        "\n"
      ],
      "metadata": {
        "id": "8NrK1KS_RhEP"
      }
    },
    {
      "cell_type": "markdown",
      "source": [
        "---\n",
        "\n",
        "\n",
        "##2.5 다층 퍼셉트론이 출동한다면\n",
        "다층 퍼셉트론 '층을 쌓는다'\n",
        "##2.5.1 기존 게이트 조합하기\n"
      ],
      "metadata": {
        "id": "SdN2zVnjSKu3"
      }
    },
    {
      "cell_type": "code",
      "source": [],
      "metadata": {
        "id": "jPsYmEh_Sldf"
      },
      "execution_count": 11,
      "outputs": []
    },
    {
      "cell_type": "markdown",
      "source": [
        "##2.5.2 XOR 게이트 구현하기\n",
        "\n"
      ],
      "metadata": {
        "id": "jXrCj_I5SnKF"
      }
    },
    {
      "cell_type": "code",
      "source": [
        "def XOR(x1, x2):\n",
        "    s1 = NAND(x1, x2)\n",
        "    s2 = OR(x1, x2)\n",
        "    y = AND(s1, s2)\n",
        "    return y"
      ],
      "metadata": {
        "id": "vxI7w_5qS2jw"
      },
      "execution_count": 12,
      "outputs": []
    },
    {
      "cell_type": "code",
      "source": [
        "XOR(0,0)"
      ],
      "metadata": {
        "colab": {
          "base_uri": "https://localhost:8080/"
        },
        "id": "xCtlwH14S7cg",
        "outputId": "c5a4b31e-3e70-41ed-90f4-b0af5140bb6d"
      },
      "execution_count": 13,
      "outputs": [
        {
          "output_type": "execute_result",
          "data": {
            "text/plain": [
              "0"
            ]
          },
          "metadata": {},
          "execution_count": 13
        }
      ]
    },
    {
      "cell_type": "code",
      "source": [
        "XOR(1,0)"
      ],
      "metadata": {
        "colab": {
          "base_uri": "https://localhost:8080/"
        },
        "id": "gxjwo1q8S9Mk",
        "outputId": "d63f80e4-3ba2-421c-ab9f-f046677ff5fd"
      },
      "execution_count": 14,
      "outputs": [
        {
          "output_type": "execute_result",
          "data": {
            "text/plain": [
              "1"
            ]
          },
          "metadata": {},
          "execution_count": 14
        }
      ]
    },
    {
      "cell_type": "code",
      "source": [
        "XOR(0,1)"
      ],
      "metadata": {
        "colab": {
          "base_uri": "https://localhost:8080/"
        },
        "id": "0W_-IVdTS_KW",
        "outputId": "bfa75903-46f2-474c-d6cd-e24b4cc5d171"
      },
      "execution_count": 15,
      "outputs": [
        {
          "output_type": "execute_result",
          "data": {
            "text/plain": [
              "1"
            ]
          },
          "metadata": {},
          "execution_count": 15
        }
      ]
    },
    {
      "cell_type": "code",
      "source": [
        "XOR(1,1)"
      ],
      "metadata": {
        "colab": {
          "base_uri": "https://localhost:8080/"
        },
        "id": "kAM-Tq0tTAFb",
        "outputId": "522666f4-ac8a-40fd-ded8-dae69aba874a"
      },
      "execution_count": 16,
      "outputs": [
        {
          "output_type": "execute_result",
          "data": {
            "text/plain": [
              "0"
            ]
          },
          "metadata": {},
          "execution_count": 16
        }
      ]
    },
    {
      "cell_type": "markdown",
      "source": [
        "1. 0층의 두 뉴런이 입력 신호를 받아 1층의 뉴런으로 신호를 보낸다.\n",
        "2. 1층의 뉴런이 2층의 뉴런으로 신호를 보내고, 2층의 뉴런은 y를 출력한다.\n",
        "\n",
        "-> XOR 구현"
      ],
      "metadata": {
        "id": "sOznhJAuTKdf"
      }
    },
    {
      "cell_type": "markdown",
      "source": [
        "\n",
        "\n",
        "---\n",
        "\n",
        "##2.6 NAND에서 컴퓨터까지\n",
        "다층 퍼셉트론은 컴퓨터를 표현할 수 있음"
      ],
      "metadata": {
        "id": "hojgJYbU6LQ8"
      }
    }
  ]
}