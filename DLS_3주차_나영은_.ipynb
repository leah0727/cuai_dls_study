{
  "cells": [
    {
      "cell_type": "markdown",
      "source": [
        "[3장 신경망]\n",
        "신경망은 각 층의 뉴런들이 다음 층의 뉴런으로 신호를 전달한다는 점에서 앞 장의 퍼셉트론과 같습니다. 하지만 다음 뉴런으로 갈 때 신호를 변화시키는 활성화 함수에 차이가 있었습니다. (시그모이드 함수, ReLU 함수)\n",
        "\n",
        "행렬 연산이 신경망 구현을 편리하게 만드는 것을 확인하고, 단일 표본에 대해, 한 단계 더 나아가 batch size의 표본에 대해 신경망을 구현해 보았습니다. 출력층의 활성화 함수로 회귀에서는 항등 함수(identity function), 분류에서는 소프트맥스 함수(softmax function)를 주로 이용합니다.\n",
        "\n",
        "실습으로 MNIST 데이터셋을 이용한 손글씨 숫자를 인식해 보았습니다.\n",
        "\n",
        "[정리]\n",
        "신경망에서는 활성화 함수로 시그모이드 함수와 ReLU 함수 같은 매끄럽게 변화하는 함수를 이용한다.\n",
        "넘파이의 다차원 배열을 잘 사용하면 신경망을 효율적으로 구현할 수 있다.\n",
        "기계학습 문제는 크게 회귀와 분류로 나눌 수 있다.\n",
        "출력층의 활성화 함수로는 회귀에서는 주로 항등 함수를, 분류에서는 주로 소프트맥스 함수를 이용한다.\n",
        "분류에서는 출력층의 뉴런 수를 분류하려는 클래스 수와 같게 설정한다.\n",
        "입력 데이터를 묶은 것을 배치라 하며, 추론 처리를 이 배치 단위로 진행하면 결과를 훨씬 빠르게 얻을 수 있다."
      ],
      "metadata": {
        "id": "-rhVUBuOrBms"
      }
    },
    {
      "cell_type": "markdown",
      "source": [
        "# 3. 신경망\n",
        "## 3.1 퍼셉트론에서 신경망으로\n",
        "### 3.1.1 신경망의 예\n",
        "### 3.1. 2 퍼셉트론 복습\n",
        "### 3.1.3 활성화 함수의 등장\n",
        " $a= b+w1x1+ w2x2$\n",
        "\n",
        " $y=h(a)$\n",
        "\n",
        "\n"
      ],
      "metadata": {
        "id": "bVUe_KNUquT0"
      }
    },
    {
      "cell_type": "markdown",
      "source": [
        "## 3.2 활성화 함수\n",
        "단순 퍼셉트론 - 계단함수 , 다층 퍼셉트론 - 신경망 - 시그모이드 함수\n",
        "\n",
        "### 3.2.1 시그모이드 함수\n",
        " $h(x) =\\frac{1}{1 + exp(-x)}$\n",
        "\n",
        "퍼셉트론 vs 신경망 : *활성화 함수 * 차이\n",
        "\n",
        "\n",
        "### 3.2.2 계단 함수 구현하기\n"
      ],
      "metadata": {
        "id": "vvwDvj6TsJid"
      }
    },
    {
      "cell_type": "code",
      "execution_count": 1,
      "metadata": {
        "id": "8kEyVY7Tqh86"
      },
      "outputs": [],
      "source": [
        "import numpy as np\n",
        "import matplotlib.pylab as plt"
      ]
    },
    {
      "cell_type": "code",
      "execution_count": 2,
      "metadata": {
        "id": "tpHm6W5Wqh87"
      },
      "outputs": [],
      "source": [
        "#계단함수 구현하기\n",
        "#넘파이 배열을 인수로 넣을 수 없음\n",
        "def step_function(x):\n",
        "    if x>0:\n",
        "        return 1\n",
        "    else:\n",
        "        return 0"
      ]
    },
    {
      "cell_type": "code",
      "execution_count": 3,
      "metadata": {
        "id": "FmfA8r8uqh87"
      },
      "outputs": [],
      "source": [
        "#넘파이 배열을 인수로 넣을 수 있는 계단함수 구현\n",
        "def step_function(x):\n",
        "    y=x>0\n",
        "    return y.astype(np.int)"
      ]
    },
    {
      "cell_type": "code",
      "execution_count": 4,
      "metadata": {
        "colab": {
          "base_uri": "https://localhost:8080/"
        },
        "id": "wPQvBbAfqh87",
        "outputId": "721e77ba-dbb1-4cad-8e7b-afa847852e88"
      },
      "outputs": [
        {
          "output_type": "execute_result",
          "data": {
            "text/plain": [
              "array([False,  True,  True])"
            ]
          },
          "metadata": {},
          "execution_count": 4
        }
      ],
      "source": [
        "import numpy as np\n",
        "x=np.array([-1,1,2])\n",
        "y=x>0\n",
        "y #bool 배열"
      ]
    },
    {
      "cell_type": "code",
      "execution_count": null,
      "metadata": {
        "id": "mA7VLPIOqh88",
        "outputId": "85ef194a-ce64-463d-ba22-1a0fe55d1feb"
      },
      "outputs": [
        {
          "data": {
            "text/plain": [
              "array([0, 1, 1])"
            ]
          },
          "execution_count": 7,
          "metadata": {},
          "output_type": "execute_result"
        }
      ],
      "source": [
        "y=y.astype(np.int) #bool 배열을 int형으로\n",
        "y"
      ]
    },
    {
      "cell_type": "code",
      "execution_count": null,
      "metadata": {
        "id": "GkhRcmisqh88",
        "outputId": "d8c3c7fd-2ee8-4741-ce68-b1ce70c46854"
      },
      "outputs": [
        {
          "data": {
            "image/png": "[encoded data removed]",
            "text/plain": [
              "<Figure size 432x288 with 1 Axes>"
            ]
          },
          "metadata": {
            "needs_background": "light"
          },
          "output_type": "display_data"
        }
      ],
      "source": [
        "# 최종\n",
        "def step_function(x):\n",
        "    return np.array(x > 0, dtype=np.int)\n",
        "\n",
        "#그래프\n",
        "X = np.arange(-5.0, 5.0, 0.1)\n",
        "Y = step_function(X)\n",
        "plt.plot(X, Y)\n",
        "plt.ylim(-0.1, 1.1)  # y축의 범위 지정\n",
        "plt.show()"
      ]
    },
    {
      "cell_type": "code",
      "source": [],
      "metadata": {
        "id": "7KrhTkmrqmcv"
      },
      "execution_count": null,
      "outputs": []
    },
    {
      "cell_type": "markdown",
      "source": [
        "### 3.2.4 시그모이드 함수 구현하기\n"
      ],
      "metadata": {
        "id": "OGVqGQvntTRA"
      }
    },
    {
      "cell_type": "code",
      "execution_count": 10,
      "metadata": {
        "id": "7D9-k0rBqbbA"
      },
      "outputs": [],
      "source": [
        "import numpy as np\n",
        "import matplotlib.pylab as plt"
      ]
    },
    {
      "cell_type": "code",
      "execution_count": 11,
      "metadata": {
        "id": "fBGhn6yeqbbB"
      },
      "outputs": [],
      "source": [
        "#시그모이드 함수 구현\n",
        "def sigmoid(x):\n",
        "    return 1/(1+np.exp(-x))"
      ]
    },
    {
      "cell_type": "code",
      "execution_count": 12,
      "metadata": {
        "id": "cPGZNGkKqbbB",
        "outputId": "00165adc-70c5-4580-a973-5b9562626b5f",
        "colab": {
          "base_uri": "https://localhost:8080/"
        }
      },
      "outputs": [
        {
          "output_type": "execute_result",
          "data": {
            "text/plain": [
              "array([0.26894142, 0.73105858, 0.88079708])"
            ]
          },
          "metadata": {},
          "execution_count": 12
        }
      ],
      "source": [
        "#확인\n",
        "x=np.array([-1,1,2])\n",
        "sigmoid(x)"
      ]
    },
    {
      "cell_type": "code",
      "source": [
        "#넘파이의 브로드캐스트: 넘파이 배열과 스칼라 값의 연산을 넘파이 배열의 원소 각가과 스칼라 값의 연산으로 바꿔 수행하는 것\n",
        "# 1/(1+np.exp(-x)) 에서 np.exp(-x)  가 넘파이 배열\n",
        "t= np.array([1.0, 2.0, 3.0])\n",
        "print(1.0+ t)\n",
        "print(1.0/ t)"
      ],
      "metadata": {
        "colab": {
          "base_uri": "https://localhost:8080/"
        },
        "id": "vIG5HB5Wti0A",
        "outputId": "c81bfda9-e8cc-4923-994b-ad7661f88d19"
      },
      "execution_count": 13,
      "outputs": [
        {
          "output_type": "stream",
          "name": "stdout",
          "text": [
            "[2. 3. 4.]\n",
            "[1.         0.5        0.33333333]\n"
          ]
        }
      ]
    },
    {
      "cell_type": "code",
      "execution_count": 14,
      "metadata": {
        "id": "49_j0N1CqbbC",
        "outputId": "506f7315-8a31-4cec-e73b-5b3a4fe6f624",
        "colab": {
          "base_uri": "https://localhost:8080/",
          "height": 430
        }
      },
      "outputs": [
        {
          "output_type": "display_data",
          "data": {
            "text/plain": [
              "<Figure size 640x480 with 1 Axes>"
            ],
            "image/png": "[encoded data removed]"
          },
          "metadata": {}
        }
      ],
      "source": [
        "#그래프\n",
        "X = np.arange(-5.0, 5.0, 0.1)\n",
        "Y = sigmoid(X)\n",
        "plt.plot(X, Y)\n",
        "plt.ylim(-0.1, 1.1)\n",
        "plt.show()"
      ]
    },
    {
      "cell_type": "code",
      "source": [],
      "metadata": {
        "id": "d8Z3GPAvuCl4"
      },
      "execution_count": null,
      "outputs": []
    },
    {
      "cell_type": "markdown",
      "source": [
        "### 3.2.5 시그모이드 함수와 계단 함수 비교\n",
        "- 차이점 : 매끄러움의 차이\n",
        "  - 시그모이드 함수 - 신경망 학습에 중요 ** 연속적 실수\n",
        "\n",
        "- 공통점\n",
        "1.  입력이 중요하면 큰 값을 출력하고 입력이 중요하지 않으면 작은 값 출력\n",
        "2. 입력이 아무리 작거나 커도 출력은 0에서 1 사이\n",
        "3. 비선형 함수\n",
        "\n",
        "\n",
        "\n",
        "\n"
      ],
      "metadata": {
        "id": "M6As6-CguLG1"
      }
    },
    {
      "cell_type": "markdown",
      "source": [
        "### 3.2.6 비선형 함수\n",
        "층을 쌓는 혜택 얻고자 ~ 활성화 함수로는 반드시 비선형 함수를 사용해야 함"
      ],
      "metadata": {
        "id": "7Mh6rvzOv1f7"
      }
    },
    {
      "cell_type": "markdown",
      "source": [
        "### 3.2.7 Relu 함수\n",
        "$h(x) = \\begin{cases}\n",
        "x & \\ (x > 0) \\\\\n",
        "0 & \\ (x \\leq 0)\n",
        "\\end{cases}$"
      ],
      "metadata": {
        "id": "1BfJcg67vymT"
      }
    },
    {
      "cell_type": "code",
      "execution_count": null,
      "metadata": {
        "id": "sTudMRcHvkL6"
      },
      "outputs": [],
      "source": [
        "import numpy as np\n",
        "import matplotlib.pylab as plt"
      ]
    },
    {
      "cell_type": "code",
      "execution_count": null,
      "metadata": {
        "id": "5jxJc1wvvkL7"
      },
      "outputs": [],
      "source": [
        "# ReLu 함수 구현\n",
        "def relu(x):\n",
        "    return np.maximum(0, x)"
      ]
    },
    {
      "cell_type": "code",
      "execution_count": null,
      "metadata": {
        "id": "joZCzhqivkL7",
        "outputId": "f51dca5e-cda0-4c03-c82f-3763a129c64f"
      },
      "outputs": [
        {
          "data": {
            "image/png": "[encoded data removed]",
            "text/plain": [
              "<Figure size 432x288 with 1 Axes>"
            ]
          },
          "metadata": {
            "needs_background": "light"
          },
          "output_type": "display_data"
        }
      ],
      "source": [
        "x = np.arange(-5.0, 5.0, 0.1)\n",
        "y = relu(x)\n",
        "plt.plot(x, y)\n",
        "plt.ylim(-1.0, 5.5)\n",
        "plt.show()"
      ]
    },
    {
      "cell_type": "markdown",
      "source": [
        "##3.3 다차원 배열의 계산\n",
        "### 3.3.1 다차원 배열\n",
        "### 3.3.2 헹렬의 곱\n",
        "대응하는 차원의 원소 수를 일치시켜라\n",
        "### 3.3.3 신경망에서의 행렬 곱\n"
      ],
      "metadata": {
        "id": "WPNty55qv5JR"
      }
    },
    {
      "cell_type": "markdown",
      "source": [
        "## 3.4 3층 신경망 구현하기\n",
        "### 3.4.1 표기법 설명\n",
        "$w12 (1) $\n",
        "- (1): 1층의 가중치\n",
        "- 1 : 다음 층의 1번째 뉴련\n",
        "- 2: 앞 층의 2번 째 뉴련\n",
        "\n",
        "###3.4.2 각 층 신호 전달 구현하기\n",
        "편향은 오른 쪽 아래 인덱스가 하나밖에 없음 $b1(1)$\n",
        "\n"
      ],
      "metadata": {
        "id": "o8HNzS__wh1U"
      }
    },
    {
      "cell_type": "markdown",
      "source": [
        "## 3.4.3 구현 정리\n"
      ],
      "metadata": {
        "id": "jz42iwC1xL_p"
      }
    },
    {
      "cell_type": "code",
      "execution_count": 15,
      "metadata": {
        "id": "DeydkIzIxZmN"
      },
      "outputs": [],
      "source": [
        "import numpy as np"
      ]
    },
    {
      "cell_type": "code",
      "execution_count": 16,
      "metadata": {
        "id": "XFl70_AqxZmO"
      },
      "outputs": [],
      "source": [
        "#시그모이드, 항등 함수 구현\n",
        "def sigmoid(x):\n",
        "    return 1/(1+np.exp(-x))\n",
        "\n",
        "def identity_function(x):\n",
        "    return x"
      ]
    },
    {
      "cell_type": "code",
      "execution_count": 17,
      "metadata": {
        "id": "O_o9gI1exZmP"
      },
      "outputs": [],
      "source": [
        "#3층 신경망 구현\n",
        "def init_network(): #가중치와 편향을 초기화하고 이들을 딕셔너리 변수인 network에 저장\n",
        "    network={}\n",
        "    network['W1']=np.array([[0.1,0.3,0.5],[0.2,0.4,0.6]])\n",
        "    network['b1']=np.array([0.1,0.2,0.3])\n",
        "    network['W2']=np.array([[0.1,0.4],[0.2,0.5],[0.3,0.6]])\n",
        "    network['b2']=np.array([0.1,0.2])\n",
        "    network['W3']=np.array([[0.1,0.3],[0.2,0.4]])\n",
        "    network['b3']=np.array([0.1,0.2])\n",
        "\n",
        "    return network\n",
        "\n",
        "def forward(network, x): #순방향으로 전달됨\n",
        "    W1, W2, W3=network['W1'], network['W2'],network['W3']\n",
        "    b1, b2, b3= network['b1'], network['b2'], network['b3']\n",
        "\n",
        "    a1=np.dot(x, W1)+b1\n",
        "    z1=sigmoid(a1)\n",
        "    a2=np.dot(z1, W2)+b2\n",
        "    z2=sigmoid(a2)\n",
        "    a3=np.dot(z2, W3)+b3\n",
        "    y=identity_function(a3) #identity_function 항등 함수 , 출력층의 활성화 함수\n",
        "\n",
        "    return y"
      ]
    },
    {
      "cell_type": "code",
      "execution_count": null,
      "metadata": {
        "id": "pvdwtIiLxZmP",
        "outputId": "676cb7cd-dc39-4f61-d00b-f8ce3c1118c7"
      },
      "outputs": [
        {
          "name": "stdout",
          "output_type": "stream",
          "text": [
            "[0.31682708 0.69627909]\n"
          ]
        }
      ],
      "source": [
        "network=init_network()\n",
        "x=np.array([1,0.5])\n",
        "y=forward(network, x)\n",
        "print(y) #[0.31682708 0.69627909]"
      ]
    },
    {
      "cell_type": "markdown",
      "source": [
        "## 3.5 출력층 설계하기\n",
        "- 출력층에서 회귀 - 항등 함수, 분류- 소프트맥스 함수 사용\n",
        "\n",
        "### 3.5.1 항등 함수와 소프트맥스 함수 구현하기\n",
        "- 항등함수: 입력을 그대로 출력\n",
        "- 소프트맥스 함수\n",
        "$ y_K = \\frac{\\text{exp}(a_K)}{\\sum_{i=1}^{n} \\text{exp}(a_i)} $\n"
      ],
      "metadata": {
        "id": "HQTmZOC_x8Tx"
      }
    },
    {
      "cell_type": "markdown",
      "source": [
        "### 3.5.2 소프트맥스 함수 구현 시 주의점\n",
        "오버플로 문제"
      ],
      "metadata": {
        "id": "UkpXeKst1JXu"
      }
    },
    {
      "cell_type": "code",
      "source": [
        "def softmax(a):\n",
        "  C=np.max(a)\n",
        "  exp_a =np.exp(a-c)\n",
        "  sum_exp_a =np.sum (exp_a)\n",
        "  y = exp_a / sum_exp_a\n",
        "\n",
        "  return y"
      ],
      "metadata": {
        "id": "WzEZ3H6WzFgN"
      },
      "execution_count": 18,
      "outputs": []
    },
    {
      "cell_type": "code",
      "source": [],
      "metadata": {
        "id": "6CjPyhag1jnM"
      },
      "execution_count": null,
      "outputs": []
    },
    {
      "cell_type": "markdown",
      "source": [
        "### 3.5.3 소프트맥스 함수의 특징\n",
        "1. 출력이 0에서 1 사이이의 실수 , 출력 총합이 1\n",
        "2. 소프트맥스 함수 적용해도 각 원소의 대소 관계는 안 변해\n",
        "\n",
        "### 3.5.4 출력층의 뉴런 수 정하기\n",
        "분류에서는 분류하고 싶은 클래스 수로 설정하는 것이 일반적\n"
      ],
      "metadata": {
        "id": "JlxKejT91kfe"
      }
    },
    {
      "cell_type": "markdown",
      "source": [
        "\n",
        "## 3.6 손글씨 숫자 인식\n",
        "\n",
        "### 3.6.1 mnist 데이터셋\n",
        "\n"
      ],
      "metadata": {
        "id": "hWoN8CsO16G2"
      }
    },
    {
      "cell_type": "code",
      "source": [],
      "metadata": {
        "id": "jnmlgNvV2ISb"
      },
      "execution_count": null,
      "outputs": []
    },
    {
      "cell_type": "code",
      "execution_count": 19,
      "metadata": {
        "id": "32-GUp2K8w7g",
        "colab": {
          "base_uri": "https://localhost:8080/",
          "height": 378
        },
        "outputId": "0d7b326c-e470-490a-a318-57b03d2ec1fd"
      },
      "outputs": [
        {
          "output_type": "error",
          "ename": "ModuleNotFoundError",
          "evalue": "No module named 'dataset'",
          "traceback": [
            "\u001b[0;31m---------------------------------------------------------------------------\u001b[0m",
            "\u001b[0;31mModuleNotFoundError\u001b[0m                       Traceback (most recent call last)",
            "\u001b[0;32m<ipython-input-19-61e6570e2782>\u001b[0m in \u001b[0;36m<cell line: 5>\u001b[0;34m()\u001b[0m\n\u001b[1;32m      3\u001b[0m \u001b[0;32mimport\u001b[0m \u001b[0mnumpy\u001b[0m \u001b[0;32mas\u001b[0m \u001b[0mnp\u001b[0m\u001b[0;34m\u001b[0m\u001b[0;34m\u001b[0m\u001b[0m\n\u001b[1;32m      4\u001b[0m \u001b[0;32mimport\u001b[0m \u001b[0mpickle\u001b[0m\u001b[0;34m\u001b[0m\u001b[0;34m\u001b[0m\u001b[0m\n\u001b[0;32m----> 5\u001b[0;31m \u001b[0;32mfrom\u001b[0m \u001b[0mdataset\u001b[0m\u001b[0;34m.\u001b[0m\u001b[0mmnist\u001b[0m \u001b[0;32mimport\u001b[0m \u001b[0mload_mnist\u001b[0m\u001b[0;34m\u001b[0m\u001b[0;34m\u001b[0m\u001b[0m\n\u001b[0m\u001b[1;32m      6\u001b[0m \u001b[0;32mfrom\u001b[0m \u001b[0mcommon\u001b[0m\u001b[0;34m.\u001b[0m\u001b[0mfunctions\u001b[0m \u001b[0;32mimport\u001b[0m \u001b[0msigmoid\u001b[0m\u001b[0;34m,\u001b[0m \u001b[0msoftmax\u001b[0m\u001b[0;34m\u001b[0m\u001b[0;34m\u001b[0m\u001b[0m\n",
            "\u001b[0;31mModuleNotFoundError\u001b[0m: No module named 'dataset'",
            "",
            "\u001b[0;31m---------------------------------------------------------------------------\u001b[0;32m\nNOTE: If your import is failing due to a missing package, you can\nmanually install dependencies using either !pip or !apt.\n\nTo view examples of installing some common dependencies, click the\n\"Open Examples\" button below.\n\u001b[0;31m---------------------------------------------------------------------------\u001b[0m\n"
          ],
          "errorDetails": {
            "actions": [
              {
                "action": "open_url",
                "actionText": "Open Examples",
                "url": "/notebooks/snippets/importing_libraries.ipynb"
              }
            ]
          }
        }
      ],
      "source": [
        "import sys, os\n",
        "sys.path.append(os.pardir)\n",
        "import numpy as np\n",
        "import pickle\n",
        "from dataset.mnist import load_mnist\n",
        "from common.functions import sigmoid, softmax"
      ]
    },
    {
      "cell_type": "code",
      "execution_count": 20,
      "metadata": {
        "id": "NNpNVKS68w7h"
      },
      "outputs": [],
      "source": [
        "# 입력층 뉴런 : 784개, 출력층 뉴런 : 10개\n",
        "# 은닉층은 총 두개, 첫 번째 은닉층 : 50개의 뉴런, 두 번째 은닉층 : 100개의 뉴런"
      ]
    },
    {
      "cell_type": "code",
      "execution_count": null,
      "metadata": {
        "id": "zj1F8fP18w7h"
      },
      "outputs": [],
      "source": [
        "def get_data():  #normalize, flatten, one_hot_label\n",
        "    (x_train, t_train), (x_test, t_test)= load_mnist(normalize=True, flatten=True, one_hot_label=False)\n",
        "    return x_test, t_test\n",
        "\n",
        "def init_network():\n",
        "    with open(\"sample_weight.pkl\",\"rb\") as f: #학습된 가중치 매개변수\n",
        "        network=pickle.load(f)\n",
        "    return network\n",
        "\n",
        "\n",
        "def predict(network, x):\n",
        "    W1, W2, W3 = network['W1'], network['W2'], network['W3']\n",
        "    b1, b2, b3 = network['b1'], network['b2'], network['b3']\n",
        "\n",
        "    a1 = np.dot(x, W1) + b1\n",
        "    z1 = sigmoid(a1)\n",
        "    a2 = np.dot(z1, W2) + b2\n",
        "    z2 = sigmoid(a2)\n",
        "    a3 = np.dot(z2, W3) + b3\n",
        "    y = softmax(a3) #소프트맥스 사용\n",
        "\n",
        "    return y"
      ]
    },
    {
      "cell_type": "code",
      "execution_count": null,
      "metadata": {
        "id": "xQ-t9iql8w7i",
        "outputId": "be83d41d-1010-4531-c24a-15fe47d75f42"
      },
      "outputs": [
        {
          "name": "stdout",
          "output_type": "stream",
          "text": [
            "Accuracy:0.9352\n"
          ]
        }
      ],
      "source": [
        "x, t=get_data()\n",
        "network=init_network()\n",
        "\n",
        "accuracy_cnt=0\n",
        "for i in range(len(x)):\n",
        "    y=predict(network, x[i])\n",
        "    p=np.argmax(y) #확률이 가장 높은 원소의 인덱스를 반환\n",
        "    if p==t[i]:\n",
        "        accuracy_cnt += 1\n",
        "\n",
        "print(\"Accuracy:\" + str(float(accuracy_cnt) / len(x)))"
      ]
    },
    {
      "cell_type": "code",
      "source": [],
      "metadata": {
        "id": "qcs8ojMC9Xp1"
      },
      "execution_count": null,
      "outputs": []
    },
    {
      "cell_type": "code",
      "execution_count": null,
      "metadata": {
        "id": "52ipYivr9VwD",
        "outputId": "1c8deae7-c42a-4609-8d42-ee84163cde9b"
      },
      "outputs": [
        {
          "name": "stdout",
          "output_type": "stream",
          "text": [
            "Converting train-images-idx3-ubyte.gz to NumPy Array ...\n",
            "Done\n",
            "Converting train-labels-idx1-ubyte.gz to NumPy Array ...\n",
            "Done\n",
            "Converting t10k-images-idx3-ubyte.gz to NumPy Array ...\n",
            "Done\n",
            "Converting t10k-labels-idx1-ubyte.gz to NumPy Array ...\n",
            "Done\n",
            "Creating pickle file ...\n",
            "Done!\n",
            "5\n",
            "(784,)\n",
            "(28, 28)\n"
          ]
        }
      ],
      "source": [
        "# coding: utf-8\n",
        "import sys, os\n",
        "sys.path.append(os.pardir)  # 부모 디렉터리의 파일을 가져올 수 있도록 설정\n",
        "import numpy as np\n",
        "from dataset.mnist import load_mnist\n",
        "from PIL import Image\n",
        "\n",
        "\n",
        "def img_show(img):\n",
        "    pil_img = Image.fromarray(np.uint8(img))\n",
        "    pil_img.show()\n",
        "\n",
        "(x_train, t_train), (x_test, t_test) = load_mnist(flatten=True, normalize=False)\n",
        "\n",
        "img = x_train[0]\n",
        "label = t_train[0]\n",
        "print(label)  # 5\n",
        "\n",
        "print(img.shape)  # (784,) #flatten 위에서 했으니까\n",
        "img = img.reshape(28, 28)  # 형상을 원래 이미지의 크기로 변형\n",
        "print(img.shape)  # (28, 28)\n",
        "\n",
        "img_show(img)\n"
      ]
    },
    {
      "cell_type": "markdown",
      "source": [
        "## 3.6.3 배치 처리\n",
        "배치: 하나로 묶은 입력 데이터\n"
      ],
      "metadata": {
        "id": "agGOk1XF9fU_"
      }
    },
    {
      "cell_type": "code",
      "source": [
        "import sys, os\n",
        "sys.path.append(os.pardir)  # 부모 디렉터리의 파일을 가져올 수 있도록\n",
        "import numpy as np\n",
        "import pickle\n",
        "from dataset.mnist import load_mnist\n",
        "from common.functions import sigmoid, softmax"
      ],
      "metadata": {
        "id": "PKVMImuJ9lRO"
      },
      "execution_count": null,
      "outputs": []
    },
    {
      "cell_type": "code",
      "source": [
        "def get_data():\n",
        "    (x_train, t_train), (x_test, t_test) = load_mnist(normalize=True, flatten=True, one_hot_label=False)\n",
        "    return x_test, t_test\n",
        "\n",
        "\n",
        "def init_network():\n",
        "    with open(\"sample_weight.pkl\", 'rb') as f:\n",
        "        network = pickle.load(f)\n",
        "    return network\n",
        "\n",
        "\n",
        "def predict(network, x):\n",
        "    w1, w2, w3 = network['W1'], network['W2'], network['W3']\n",
        "    b1, b2, b3 = network['b1'], network['b2'], network['b3']\n",
        "\n",
        "    a1 = np.dot(x, w1) + b1\n",
        "    z1 = sigmoid(a1)\n",
        "    a2 = np.dot(z1, w2) + b2\n",
        "    z2 = sigmoid(a2)\n",
        "    a3 = np.dot(z2, w3) + b3\n",
        "    y = softmax(a3)\n",
        "\n",
        "    return y"
      ],
      "metadata": {
        "id": "Zq8ru-iQ9oBx"
      },
      "execution_count": null,
      "outputs": []
    },
    {
      "cell_type": "code",
      "source": [
        "#batch로 mnist 구현\n",
        "x, t=get_data()\n",
        "network=init_network()\n",
        "\n",
        "batch_size=100 #배치크기\n",
        "accuracy_cnt=0\n",
        "\n",
        "for i in range(0, len(x), batch_size):\n",
        "    x_batch=x[i:i+batch_size]\n",
        "    y_batch=predict(network, x_batch)\n",
        "    p=np.argmax(y_batch, axis=1)\n",
        "    accuracy_cnt += np.sum(p==t[i:i+batch_size])\n",
        "\n",
        "print(\"Accuracy:\" + str(float(accuracy_cnt) / len(x)))"
      ],
      "metadata": {
        "id": "OPYHsdmc9qa6"
      },
      "execution_count": null,
      "outputs": []
    },
    {
      "cell_type": "markdown",
      "source": [
        "#[정리]\n",
        "- 신경망에서는 활성화 함수로 시그모이드 함수와 relu 함수 같은 매끄럽게 변화하는 함수를 이용한다.\n",
        "- 넘파이의 다차원 배열을 잘 사용하면 신경망을 효율적으로 구현할 수 있다.\n",
        "- 기계학습 문제는 크게 회귀와 분류로 나눌 수 있다.\n",
        "- 출력층의 활성화 함수로는 회귀에서는 주로 항등 함수를, 분류에서는 주로 소프트맥스 함수를 이용한다.\n",
        "- 분류에서는 출력층의 뉴런 수를 분류하려는 클래스 수와 같게 설정한다.\n",
        "- 입력 데이터를 묶은 것을 배치라 하며, 추론 처리를 이 배치 단위로 진행하면 결과를 훨씬 빠르게 얻을 수 있다."
      ],
      "metadata": {
        "id": "dGDH3GtB9uFA"
      }
    }
  ],
  "metadata": {
    "kernelspec": {
      "display_name": "Python 3",
      "language": "python",
      "name": "python3"
    },
    "language_info": {
      "codemirror_mode": {
        "name": "ipython",
        "version": 3
      },
      "file_extension": ".py",
      "mimetype": "text/x-python",
      "name": "python",
      "nbconvert_exporter": "python",
      "pygments_lexer": "ipython3",
      "version": "3.7.7"
    },
    "colab": {
      "provenance": []
    }
  },
  "nbformat": 4,
  "nbformat_minor": 0
}